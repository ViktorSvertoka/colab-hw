{
  "cells": [
    {
      "cell_type": "markdown",
      "metadata": {
        "id": "xJ6EpMRR0Ko1"
      },
      "source": [
        "\n",
        "Вам можуть знадобитись такі символи:\n",
        "\n",
        "\n",
        "Символ | Код\n",
        "--- | ---\n",
        "$\\wedge$ | \\\\$\\wedge\\\\$\n",
        "$\\vee$ | \\\\$\\vee\\\\$\n",
        "$\\neg$ | \\\\$\\neg\\\\$\n",
        "$\\rightarrow$ | \\\\$\\rightarrow\\\\$\n",
        "$\\oplus$ | \\\\$\\oplus\\\\$\n",
        "$\\equiv$ | \\\\$\\equiv\\\\$\n",
        "$\\Leftrightarrow$ | \\\\$\\Leftrightarrow\\\\$"
      ]
    },
    {
      "cell_type": "markdown",
      "metadata": {
        "id": "yKUL8_WRy1WO"
      },
      "source": [
        "## Завдання 1\n",
        "Запишіть наступні висловлювання у математичній формі та складіть для них таблиці істиності:"
      ]
    },
    {
      "cell_type": "markdown",
      "metadata": {
        "id": "O0k_O_SOy2eP"
      },
      "source": [
        "a) “Морті прийде на вечірку (A) тоді й тільки тоді, коли Джесіка прийде на вечірку(B), а Рік не прийде(C)”.\n",
        "\n",
        "A - \\\n",
        "B - \\\n",
        "C -\n",
        "\n",
        "$X = $\n",
        "\n",
        "$$\n",
        "\\begin{array} {|r|r|}\\hline\n",
        "A & B & C & X \\\\ \\hline\n",
        "1 & 1 & 1 & ? \\\\ \\hline\n",
        "0 & 1 & 1 & ? \\\\ \\hline\n",
        "1 & 0 & 1 & ? \\\\ \\hline\n",
        "0 & 0 & 1 & ? \\\\ \\hline\n",
        "1 & 1 & 0 & ? \\\\ \\hline\n",
        "0 & 1 & 0 & ? \\\\ \\hline\n",
        "1 & 0 & 0 & ? \\\\ \\hline\n",
        "0 & 0 & 0 & ? \\\\ \\hline\n",
        "\\end{array}\n",
        "$$"
      ]
    },
    {
      "cell_type": "markdown",
      "metadata": {
        "id": "YO3StJEgy2w5"
      },
      "source": [
        "b) “Якщо ми успішно виконаємо домашнє завдання з математичної логіки (A), то ми отримаємо заліковий бал (B) або візьмемо участь у науковому семінарі (C), водночас якщо ми візьмемо участь у науковому семінарі і отримаємо заліковий бал, то достроково складемо іспит з математичної логіки (D)”.\n",
        "\n",
        "A - \\\n",
        "B - \\\n",
        "C - \\\n",
        "D -\n",
        "\n",
        "$X = $\n",
        "\n",
        "$$\n",
        "\\begin{array} {|r|r|}\\hline\n",
        "A & B & C & D & X \\\\ \\hline\n",
        "1 & 1 & 1 & 1 & ? \\\\ \\hline\n",
        "0 & 1 & 1 & 1 & ? \\\\ \\hline\n",
        "1 & 0 & 1 & 1 & ? \\\\ \\hline\n",
        "0 & 0 & 1 & 1 & ? \\\\ \\hline\n",
        "1 & 1 & 0 & 1 & ? \\\\ \\hline\n",
        "0 & 1 & 0 & 1 & ? \\\\ \\hline\n",
        "1 & 0 & 0 & 1 & ? \\\\ \\hline\n",
        "0 & 0 & 0 & 1 & ? \\\\ \\hline\n",
        "1 & 1 & 1 & 0 & ? \\\\ \\hline\n",
        "0 & 1 & 1 & 0 & ? \\\\ \\hline\n",
        "1 & 0 & 1 & 0 & ? \\\\ \\hline\n",
        "0 & 0 & 1 & 0 & ? \\\\ \\hline\n",
        "1 & 1 & 0 & 0 & ? \\\\ \\hline\n",
        "0 & 1 & 0 & 0 & ? \\\\ \\hline\n",
        "1 & 0 & 0 & 0 & ? \\\\ \\hline  \n",
        "0 & 0 & 0 & 0 & ? \\\\ \\hline\n",
        "\\end{array}\n",
        "$$"
      ]
    },
    {
      "cell_type": "markdown",
      "metadata": {
        "id": "7n3tjLJey3Ho"
      },
      "source": [
        "## Завдання 2\n",
        "Із 40 програмістів 18 володіють мовою Python, 19 — мовою С++, 21 — мовою Java. Відомо, що 10 програмістів знають одночасно Python і С++, 7 — Python і Java, 8 — C++ і Java. Троє програмістів не володіють жодною із мов Python, С++, Java. Знайти кількість програмістів, які одночасно знають усі три мови програмування."
      ]
    },
    {
      "cell_type": "markdown",
      "metadata": {
        "id": "NE6dRJKmy7za"
      },
      "source": []
    }
  ],
  "metadata": {
    "colab": {
      "provenance": []
    },
    "kernelspec": {
      "display_name": "Python 3",
      "name": "python3"
    },
    "language_info": {
      "name": "python"
    }
  },
  "nbformat": 4,
  "nbformat_minor": 0
}
