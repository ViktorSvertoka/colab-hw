{
  "nbformat": 4,
  "nbformat_minor": 0,
  "metadata": {
    "colab": {
      "provenance": []
    },
    "kernelspec": {
      "name": "python3",
      "display_name": "Python 3"
    },
    "language_info": {
      "name": "python"
    }
  },
  "cells": [
    {
      "cell_type": "markdown",
      "source": [
        "\n",
        "\n",
        "Дано 4 точки: $M_0(0, 0, 0), M_1(1, \\frac{1}{3}, 0), M_2(0, 2, \\frac{1}{4}), M_3(\\frac{1}{2}, \\frac{1}{2}, 1)$.\n",
        "\n",
        "Також дано 3 вектори, які задають паралелепіпед із зазначеними точками:\n",
        "- $\\overline{a}=\\overline{M_0M_1}$\n",
        "- $\\overline{b}=\\overline{M_0M_2}$\n",
        "- $\\overline{c}=\\overline{M_0M_3}$\n",
        "\n",
        "Порахуй координати векторів через задані точки.  \n",
        "Порахуй об'єм, площу повної поверхні паралелепіпеда та кути між ребрами паралелепіпеда, координати решти вершин паралелепіпеда.\n",
        "\n"
      ],
      "metadata": {
        "id": "hcaEinFBN22V"
      }
    },
    {
      "cell_type": "markdown",
      "source": [
        "$\\overline{a} = ? = \\left (\\begin{array}{cc}\n",
        "?\\\\\n",
        "?\\\\\n",
        "?\n",
        "\\end{array}\\right)\n",
        "\\\\\n",
        "\\overline{b} = ? = \\left (\\begin{array}{cc}\n",
        "?\\\\\n",
        "?\\\\\n",
        "?\n",
        "\\end{array}\\right)\n",
        "\\\\\n",
        "\\overline{c} = ? = \\left (\\begin{array}{cc}\n",
        "?\\\\\n",
        "?\\\\\n",
        "?\n",
        "\\end{array}\\right)\n",
        "$"
      ],
      "metadata": {
        "id": "sktokwYqSqhu"
      }
    },
    {
      "cell_type": "markdown",
      "source": [
        "$\n",
        "V = ?\\\\\n",
        "S = ?\\\\\n",
        "\\angle(a, b) = ?\\\\\n",
        "\\angle(a, c) = ?\\\\\n",
        "\\angle(b, c) = ?\\\\\n",
        "M_4 = ?\\\\\n",
        "M_5 = ?\\\\\n",
        "M_6 = ?\\\\\n",
        "M_7 = ?\n",
        "$"
      ],
      "metadata": {
        "id": "SVtaqixdAuJP"
      }
    },
    {
      "cell_type": "markdown",
      "source": [],
      "metadata": {
        "id": "j-BftieoCHTu"
      }
    }
  ]
}