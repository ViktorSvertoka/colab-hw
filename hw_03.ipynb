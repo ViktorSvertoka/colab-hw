{
  "cells": [
    {
      "cell_type": "markdown",
      "metadata": {},
      "source": [
        "# Домашнє завдання. Вектори на площині та у просторі"
      ]
    },
    {
      "cell_type": "markdown",
      "metadata": {
        "id": "hcaEinFBN22V"
      },
      "source": [
        "\n",
        "\n",
        "Дано 4 точки: $M_0(0, 0, 0), M_1(1, \\frac{1}{3}, 0), M_2(0, 2, \\frac{1}{4}), M_3(\\frac{1}{2}, \\frac{1}{2}, 1)$.\n",
        "\n",
        "Також дано 3 вектори, які задають паралелепіпед із зазначеними точками:\n",
        "- $\\overline{a}=\\overline{M_0M_1}$\n",
        "- $\\overline{b}=\\overline{M_0M_2}$\n",
        "- $\\overline{c}=\\overline{M_0M_3}$\n",
        "\n",
        "Порахуй координати векторів через задані точки.  \n",
        "Порахуй об'єм, площу повної поверхні паралелепіпеда та кути між ребрами паралелепіпеда, координати решти вершин паралелепіпеда.\n",
        "\n"
      ]
    },
    {
      "cell_type": "markdown",
      "metadata": {
        "id": "sktokwYqSqhu"
      },
      "source": [
        "$\\overline{a} = ? = \\left (\\begin{array}{cc}\n",
        "?\\\\\n",
        "?\\\\\n",
        "?\n",
        "\\end{array}\\right)\n",
        "\\\\\n",
        "\\overline{b} = ? = \\left (\\begin{array}{cc}\n",
        "?\\\\\n",
        "?\\\\\n",
        "?\n",
        "\\end{array}\\right)\n",
        "\\\\\n",
        "\\overline{c} = ? = \\left (\\begin{array}{cc}\n",
        "?\\\\\n",
        "?\\\\\n",
        "?\n",
        "\\end{array}\\right)\n",
        "$"
      ]
    },
    {
      "cell_type": "markdown",
      "metadata": {
        "id": "SVtaqixdAuJP"
      },
      "source": [
        "$\n",
        "V = ?\\\\\n",
        "S = ?\\\\\n",
        "\\angle(a, b) = ?\\\\\n",
        "\\angle(a, c) = ?\\\\\n",
        "\\angle(b, c) = ?\\\\\n",
        "M_4 = ?\\\\\n",
        "M_5 = ?\\\\\n",
        "M_6 = ?\\\\\n",
        "M_7 = ?\n",
        "$"
      ]
    },
    {
      "cell_type": "markdown",
      "metadata": {
        "id": "j-BftieoCHTu"
      },
      "source": [
        "Для обчислення координат векторів, які задають паралелепіпед, нам необхідно визначити вектори $\\overline{a}$, $\\overline{b}$ та $\\overline{c}$ за допомогою заданих точок $M_0$, $M_1$, $M_2$ та $M_3$. Необхідно знайти різницю координат відповідних точок $M_1$, $M_2$ та  $M_3$ відносно точки $M_0$."
      ]
    },
    {
      "cell_type": "markdown",
      "metadata": {
        "id": "H0y-6mn6-IvM"
      },
      "source": [
        "Вектор $\\overline{a}$ визначається як $\\overline{𝑀_0𝑀_1}$:\n",
        "$$\n",
        "\\overline{a} = \\overline{𝑀_0𝑀_1} = 𝑀_1 - 𝑀_0\n",
        "\\\\\n",
        "\\overline{a} = (1 - 0,\\frac{1}{3}-0,0-0) = (1,\\frac{1}{3},0)\n",
        "$$\n",
        "\\\n",
        "\\\n",
        "Вектор $\\overline{b}$ визначається як $\\overline{𝑀_0𝑀_2}$:\n",
        "$$\n",
        "\\overline{b} = \\overline{𝑀_0𝑀_2} = 𝑀_2 - 𝑀_0\n",
        "\\\\\n",
        "\\overline{b} = (0 - 0,2-0,\\frac{1}{4}-0) = (0,2,\\frac{1}{4})\n",
        "$$\n",
        "\\\n",
        "\\\n",
        "Вектор $\\overline{c}$ визначається як $\\overline{𝑀_0𝑀_3}$:\n",
        "$$\n",
        "\\overline{c} = \\overline{𝑀_0𝑀_3} = 𝑀_3 - 𝑀_0\n",
        "\\\\\n",
        "\\overline{c} = (\\frac{1}{2} - 0,\\frac{1}{2}-0,1-0) = (\\frac{1}{2},\\frac{1}{2},1)\n",
        "$$"
      ]
    },
    {
      "cell_type": "markdown",
      "metadata": {
        "id": "ma38wAwv-B2z"
      },
      "source": []
    },
    {
      "cell_type": "code",
      "execution_count": 1,
      "metadata": {
        "colab": {
          "base_uri": "https://localhost:8080/",
          "height": 769
        },
        "id": "qKKdLZ4m-SkU",
        "outputId": "bf448dab-b1b4-4f4d-e310-6acfef166c92"
      },
      "outputs": [
        {
          "name": "stdout",
          "output_type": "stream",
          "text": [
            "Вектор a: (1, 0.3333333333333333, 0)\n",
            "Вектор b: (0, 2, 0.25)\n",
            "Вектор c: (0.5, 0.5, 1)\n"
          ]
        },
        {
          "data": {
            "text/html": [
              "<html>\n",
              "<head><meta charset=\"utf-8\" /></head>\n",
              "<body>\n",
              "    <div>            <script src=\"https://cdnjs.cloudflare.com/ajax/libs/mathjax/2.7.5/MathJax.js?config=TeX-AMS-MML_SVG\"></script><script type=\"text/javascript\">if (window.MathJax && window.MathJax.Hub && window.MathJax.Hub.Config) {window.MathJax.Hub.Config({SVG: {font: \"STIX-Web\"}});}</script>                <script type=\"text/javascript\">window.PlotlyConfig = {MathJaxConfig: 'local'};</script>\n",
              "        <script charset=\"utf-8\" src=\"https://cdn.plot.ly/plotly-2.24.1.min.js\"></script>                <div id=\"937b60e5-e638-41fd-b12a-10ac263f7357\" class=\"plotly-graph-div\" style=\"height:700px; width:800px;\"></div>            <script type=\"text/javascript\">                                    window.PLOTLYENV=window.PLOTLYENV || {};                                    if (document.getElementById(\"937b60e5-e638-41fd-b12a-10ac263f7357\")) {                    Plotly.newPlot(                        \"937b60e5-e638-41fd-b12a-10ac263f7357\",                        [{\"marker\":{\"size\":5},\"mode\":\"markers\",\"name\":\"\\u0422\\u043e\\u0447\\u043a\\u0430 \\u043d\\u0430 \\u043f\\u043b\\u043e\\u0449\\u0438\\u043d\\u0456\",\"x\":[0,1,0,0.5],\"y\":[0,0.3333333333333333,2,0.5],\"z\":[0,0,0.25,1],\"type\":\"scatter3d\"},{\"line\":{\"width\":5},\"mode\":\"lines\",\"name\":\"\\u0412\\u0435\\u043a\\u0442\\u043e\\u0440 a\",\"x\":[0,1],\"y\":[0,0.3333333333333333],\"z\":[0,0],\"type\":\"scatter3d\"},{\"line\":{\"width\":5},\"mode\":\"lines\",\"name\":\"\\u0412\\u0435\\u043a\\u0442\\u043e\\u0440 b\",\"x\":[0,0],\"y\":[0,2],\"z\":[0,0.25],\"type\":\"scatter3d\"},{\"line\":{\"width\":5},\"mode\":\"lines\",\"name\":\"\\u0412\\u0435\\u043a\\u0442\\u043e\\u0440 c\",\"x\":[0,0.5],\"y\":[0,0.5],\"z\":[0,1],\"type\":\"scatter3d\"}],                        {\"template\":{\"data\":{\"histogram2dcontour\":[{\"type\":\"histogram2dcontour\",\"colorbar\":{\"outlinewidth\":0,\"ticks\":\"\"},\"colorscale\":[[0.0,\"#0d0887\"],[0.1111111111111111,\"#46039f\"],[0.2222222222222222,\"#7201a8\"],[0.3333333333333333,\"#9c179e\"],[0.4444444444444444,\"#bd3786\"],[0.5555555555555556,\"#d8576b\"],[0.6666666666666666,\"#ed7953\"],[0.7777777777777778,\"#fb9f3a\"],[0.8888888888888888,\"#fdca26\"],[1.0,\"#f0f921\"]]}],\"choropleth\":[{\"type\":\"choropleth\",\"colorbar\":{\"outlinewidth\":0,\"ticks\":\"\"}}],\"histogram2d\":[{\"type\":\"histogram2d\",\"colorbar\":{\"outlinewidth\":0,\"ticks\":\"\"},\"colorscale\":[[0.0,\"#0d0887\"],[0.1111111111111111,\"#46039f\"],[0.2222222222222222,\"#7201a8\"],[0.3333333333333333,\"#9c179e\"],[0.4444444444444444,\"#bd3786\"],[0.5555555555555556,\"#d8576b\"],[0.6666666666666666,\"#ed7953\"],[0.7777777777777778,\"#fb9f3a\"],[0.8888888888888888,\"#fdca26\"],[1.0,\"#f0f921\"]]}],\"heatmap\":[{\"type\":\"heatmap\",\"colorbar\":{\"outlinewidth\":0,\"ticks\":\"\"},\"colorscale\":[[0.0,\"#0d0887\"],[0.1111111111111111,\"#46039f\"],[0.2222222222222222,\"#7201a8\"],[0.3333333333333333,\"#9c179e\"],[0.4444444444444444,\"#bd3786\"],[0.5555555555555556,\"#d8576b\"],[0.6666666666666666,\"#ed7953\"],[0.7777777777777778,\"#fb9f3a\"],[0.8888888888888888,\"#fdca26\"],[1.0,\"#f0f921\"]]}],\"heatmapgl\":[{\"type\":\"heatmapgl\",\"colorbar\":{\"outlinewidth\":0,\"ticks\":\"\"},\"colorscale\":[[0.0,\"#0d0887\"],[0.1111111111111111,\"#46039f\"],[0.2222222222222222,\"#7201a8\"],[0.3333333333333333,\"#9c179e\"],[0.4444444444444444,\"#bd3786\"],[0.5555555555555556,\"#d8576b\"],[0.6666666666666666,\"#ed7953\"],[0.7777777777777778,\"#fb9f3a\"],[0.8888888888888888,\"#fdca26\"],[1.0,\"#f0f921\"]]}],\"contourcarpet\":[{\"type\":\"contourcarpet\",\"colorbar\":{\"outlinewidth\":0,\"ticks\":\"\"}}],\"contour\":[{\"type\":\"contour\",\"colorbar\":{\"outlinewidth\":0,\"ticks\":\"\"},\"colorscale\":[[0.0,\"#0d0887\"],[0.1111111111111111,\"#46039f\"],[0.2222222222222222,\"#7201a8\"],[0.3333333333333333,\"#9c179e\"],[0.4444444444444444,\"#bd3786\"],[0.5555555555555556,\"#d8576b\"],[0.6666666666666666,\"#ed7953\"],[0.7777777777777778,\"#fb9f3a\"],[0.8888888888888888,\"#fdca26\"],[1.0,\"#f0f921\"]]}],\"surface\":[{\"type\":\"surface\",\"colorbar\":{\"outlinewidth\":0,\"ticks\":\"\"},\"colorscale\":[[0.0,\"#0d0887\"],[0.1111111111111111,\"#46039f\"],[0.2222222222222222,\"#7201a8\"],[0.3333333333333333,\"#9c179e\"],[0.4444444444444444,\"#bd3786\"],[0.5555555555555556,\"#d8576b\"],[0.6666666666666666,\"#ed7953\"],[0.7777777777777778,\"#fb9f3a\"],[0.8888888888888888,\"#fdca26\"],[1.0,\"#f0f921\"]]}],\"mesh3d\":[{\"type\":\"mesh3d\",\"colorbar\":{\"outlinewidth\":0,\"ticks\":\"\"}}],\"scatter\":[{\"fillpattern\":{\"fillmode\":\"overlay\",\"size\":10,\"solidity\":0.2},\"type\":\"scatter\"}],\"parcoords\":[{\"type\":\"parcoords\",\"line\":{\"colorbar\":{\"outlinewidth\":0,\"ticks\":\"\"}}}],\"scatterpolargl\":[{\"type\":\"scatterpolargl\",\"marker\":{\"colorbar\":{\"outlinewidth\":0,\"ticks\":\"\"}}}],\"bar\":[{\"error_x\":{\"color\":\"#2a3f5f\"},\"error_y\":{\"color\":\"#2a3f5f\"},\"marker\":{\"line\":{\"color\":\"#E5ECF6\",\"width\":0.5},\"pattern\":{\"fillmode\":\"overlay\",\"size\":10,\"solidity\":0.2}},\"type\":\"bar\"}],\"scattergeo\":[{\"type\":\"scattergeo\",\"marker\":{\"colorbar\":{\"outlinewidth\":0,\"ticks\":\"\"}}}],\"scatterpolar\":[{\"type\":\"scatterpolar\",\"marker\":{\"colorbar\":{\"outlinewidth\":0,\"ticks\":\"\"}}}],\"histogram\":[{\"marker\":{\"pattern\":{\"fillmode\":\"overlay\",\"size\":10,\"solidity\":0.2}},\"type\":\"histogram\"}],\"scattergl\":[{\"type\":\"scattergl\",\"marker\":{\"colorbar\":{\"outlinewidth\":0,\"ticks\":\"\"}}}],\"scatter3d\":[{\"type\":\"scatter3d\",\"line\":{\"colorbar\":{\"outlinewidth\":0,\"ticks\":\"\"}},\"marker\":{\"colorbar\":{\"outlinewidth\":0,\"ticks\":\"\"}}}],\"scattermapbox\":[{\"type\":\"scattermapbox\",\"marker\":{\"colorbar\":{\"outlinewidth\":0,\"ticks\":\"\"}}}],\"scatterternary\":[{\"type\":\"scatterternary\",\"marker\":{\"colorbar\":{\"outlinewidth\":0,\"ticks\":\"\"}}}],\"scattercarpet\":[{\"type\":\"scattercarpet\",\"marker\":{\"colorbar\":{\"outlinewidth\":0,\"ticks\":\"\"}}}],\"carpet\":[{\"aaxis\":{\"endlinecolor\":\"#2a3f5f\",\"gridcolor\":\"white\",\"linecolor\":\"white\",\"minorgridcolor\":\"white\",\"startlinecolor\":\"#2a3f5f\"},\"baxis\":{\"endlinecolor\":\"#2a3f5f\",\"gridcolor\":\"white\",\"linecolor\":\"white\",\"minorgridcolor\":\"white\",\"startlinecolor\":\"#2a3f5f\"},\"type\":\"carpet\"}],\"table\":[{\"cells\":{\"fill\":{\"color\":\"#EBF0F8\"},\"line\":{\"color\":\"white\"}},\"header\":{\"fill\":{\"color\":\"#C8D4E3\"},\"line\":{\"color\":\"white\"}},\"type\":\"table\"}],\"barpolar\":[{\"marker\":{\"line\":{\"color\":\"#E5ECF6\",\"width\":0.5},\"pattern\":{\"fillmode\":\"overlay\",\"size\":10,\"solidity\":0.2}},\"type\":\"barpolar\"}],\"pie\":[{\"automargin\":true,\"type\":\"pie\"}]},\"layout\":{\"autotypenumbers\":\"strict\",\"colorway\":[\"#636efa\",\"#EF553B\",\"#00cc96\",\"#ab63fa\",\"#FFA15A\",\"#19d3f3\",\"#FF6692\",\"#B6E880\",\"#FF97FF\",\"#FECB52\"],\"font\":{\"color\":\"#2a3f5f\"},\"hovermode\":\"closest\",\"hoverlabel\":{\"align\":\"left\"},\"paper_bgcolor\":\"white\",\"plot_bgcolor\":\"#E5ECF6\",\"polar\":{\"bgcolor\":\"#E5ECF6\",\"angularaxis\":{\"gridcolor\":\"white\",\"linecolor\":\"white\",\"ticks\":\"\"},\"radialaxis\":{\"gridcolor\":\"white\",\"linecolor\":\"white\",\"ticks\":\"\"}},\"ternary\":{\"bgcolor\":\"#E5ECF6\",\"aaxis\":{\"gridcolor\":\"white\",\"linecolor\":\"white\",\"ticks\":\"\"},\"baxis\":{\"gridcolor\":\"white\",\"linecolor\":\"white\",\"ticks\":\"\"},\"caxis\":{\"gridcolor\":\"white\",\"linecolor\":\"white\",\"ticks\":\"\"}},\"coloraxis\":{\"colorbar\":{\"outlinewidth\":0,\"ticks\":\"\"}},\"colorscale\":{\"sequential\":[[0.0,\"#0d0887\"],[0.1111111111111111,\"#46039f\"],[0.2222222222222222,\"#7201a8\"],[0.3333333333333333,\"#9c179e\"],[0.4444444444444444,\"#bd3786\"],[0.5555555555555556,\"#d8576b\"],[0.6666666666666666,\"#ed7953\"],[0.7777777777777778,\"#fb9f3a\"],[0.8888888888888888,\"#fdca26\"],[1.0,\"#f0f921\"]],\"sequentialminus\":[[0.0,\"#0d0887\"],[0.1111111111111111,\"#46039f\"],[0.2222222222222222,\"#7201a8\"],[0.3333333333333333,\"#9c179e\"],[0.4444444444444444,\"#bd3786\"],[0.5555555555555556,\"#d8576b\"],[0.6666666666666666,\"#ed7953\"],[0.7777777777777778,\"#fb9f3a\"],[0.8888888888888888,\"#fdca26\"],[1.0,\"#f0f921\"]],\"diverging\":[[0,\"#8e0152\"],[0.1,\"#c51b7d\"],[0.2,\"#de77ae\"],[0.3,\"#f1b6da\"],[0.4,\"#fde0ef\"],[0.5,\"#f7f7f7\"],[0.6,\"#e6f5d0\"],[0.7,\"#b8e186\"],[0.8,\"#7fbc41\"],[0.9,\"#4d9221\"],[1,\"#276419\"]]},\"xaxis\":{\"gridcolor\":\"white\",\"linecolor\":\"white\",\"ticks\":\"\",\"title\":{\"standoff\":15},\"zerolinecolor\":\"white\",\"automargin\":true,\"zerolinewidth\":2},\"yaxis\":{\"gridcolor\":\"white\",\"linecolor\":\"white\",\"ticks\":\"\",\"title\":{\"standoff\":15},\"zerolinecolor\":\"white\",\"automargin\":true,\"zerolinewidth\":2},\"scene\":{\"xaxis\":{\"backgroundcolor\":\"#E5ECF6\",\"gridcolor\":\"white\",\"linecolor\":\"white\",\"showbackground\":true,\"ticks\":\"\",\"zerolinecolor\":\"white\",\"gridwidth\":2},\"yaxis\":{\"backgroundcolor\":\"#E5ECF6\",\"gridcolor\":\"white\",\"linecolor\":\"white\",\"showbackground\":true,\"ticks\":\"\",\"zerolinecolor\":\"white\",\"gridwidth\":2},\"zaxis\":{\"backgroundcolor\":\"#E5ECF6\",\"gridcolor\":\"white\",\"linecolor\":\"white\",\"showbackground\":true,\"ticks\":\"\",\"zerolinecolor\":\"white\",\"gridwidth\":2}},\"shapedefaults\":{\"line\":{\"color\":\"#2a3f5f\"}},\"annotationdefaults\":{\"arrowcolor\":\"#2a3f5f\",\"arrowhead\":0,\"arrowwidth\":1},\"geo\":{\"bgcolor\":\"white\",\"landcolor\":\"#E5ECF6\",\"subunitcolor\":\"white\",\"showland\":true,\"showlakes\":true,\"lakecolor\":\"white\"},\"title\":{\"x\":0.05},\"mapbox\":{\"style\":\"light\"}}},\"scene\":{\"xaxis\":{\"title\":{\"text\":\"\\u0432\\u0456\\u0441\\u044c X\"}},\"yaxis\":{\"title\":{\"text\":\"\\u0432\\u0456\\u0441\\u044c Y\"}},\"zaxis\":{\"title\":{\"text\":\"\\u0432\\u0456\\u0441\\u044c Z\"}}},\"title\":{\"text\":\"3D-\\u0433\\u0440\\u0430\\u0444\\u0456\\u043a \\u0437 \\u0442\\u043e\\u0447\\u043a\\u043e\\u044e \\ud835\\udc400 \\u0442\\u0430 \\u0442\\u0440\\u044c\\u043e\\u043c\\u0430 \\u0432\\u0435\\u043a\\u0442\\u043e\\u0440\\u0430\\u043c\\u0438\"},\"width\":800,\"height\":700,\"showlegend\":true},                        {\"responsive\": true}                    ).then(function(){\n",
              "                            \n",
              "var gd = document.getElementById('937b60e5-e638-41fd-b12a-10ac263f7357');\n",
              "var x = new MutationObserver(function (mutations, observer) {{\n",
              "        var display = window.getComputedStyle(gd).display;\n",
              "        if (!display || display === 'none') {{\n",
              "            console.log([gd, 'removed!']);\n",
              "            Plotly.purge(gd);\n",
              "            observer.disconnect();\n",
              "        }}\n",
              "}});\n",
              "\n",
              "// Listen for the removal of the full notebook cells\n",
              "var notebookContainer = gd.closest('#notebook-container');\n",
              "if (notebookContainer) {{\n",
              "    x.observe(notebookContainer, {childList: true});\n",
              "}}\n",
              "\n",
              "// Listen for the clearing of the current output cell\n",
              "var outputEl = gd.closest('.output');\n",
              "if (outputEl) {{\n",
              "    x.observe(outputEl, {childList: true});\n",
              "}}\n",
              "\n",
              "                        })                };                            </script>        </div>\n",
              "</body>\n",
              "</html>"
            ]
          },
          "metadata": {},
          "output_type": "display_data"
        }
      ],
      "source": [
        "# Програмне вирішення задачі\n",
        "import plotly.graph_objects as go\n",
        "\n",
        "# Визначаємо координати точок\n",
        "M0 = (0, 0, 0)\n",
        "M1 = (1, 1/3, 0)\n",
        "M2 = (0, 2, 1/4)\n",
        "M3 = (1/2, 1/2, 1)\n",
        "\n",
        "# Функція для обчислення вектора між двома точками\n",
        "def vector_between_points(P1, P0):\n",
        "    return (P1[0] - P0[0], P1[1] - P0[1], P1[2] - P0[2])\n",
        "\n",
        "# Обчислюємо вектори\n",
        "a = vector_between_points(M1, M0)\n",
        "b = vector_between_points(M2, M0)\n",
        "c = vector_between_points(M3, M0)\n",
        "\n",
        "# Виводимо координати векторів\n",
        "print(f\"Вектор a: {a}\")\n",
        "print(f\"Вектор b: {b}\")\n",
        "print(f\"Вектор c: {c}\")\n",
        "\n",
        "# Візуалізація векторів за допомогою Plotly\n",
        "fig = go.Figure()\n",
        "\n",
        "# Додаємо точки\n",
        "fig.add_trace(go.Scatter3d(x=[M0[0], M1[0], M2[0], M3[0]],\n",
        "                           y=[M0[1], M1[1], M2[1], M3[1]],\n",
        "                           z=[M0[2], M1[2], M2[2], M3[2]],\n",
        "                           mode='markers',\n",
        "                           marker=dict(size=5),\n",
        "                           name='Точка на площині'))\n",
        "\n",
        "# Додаємо вектори\n",
        "def add_vector(fig, start, vector, name):\n",
        "    fig.add_trace(go.Scatter3d(x=[start[0], start[0] + vector[0]],\n",
        "                               y=[start[1], start[1] + vector[1]],\n",
        "                               z=[start[2], start[2] + vector[2]],\n",
        "                               mode='lines',\n",
        "                               line=dict(width=5),\n",
        "                               name=name))\n",
        "\n",
        "add_vector(fig, M0, a, 'Вектор a')\n",
        "add_vector(fig, M0, b, 'Вектор b')\n",
        "add_vector(fig, M0, c, 'Вектор c')\n",
        "\n",
        "# Налаштування візуалізації\n",
        "fig.update_layout(scene=dict(\n",
        "                    xaxis_title='вісь X',\n",
        "                    yaxis_title='вісь Y',\n",
        "                    zaxis_title='вісь Z'),\n",
        "                  title=\"3D-графік з точкою 𝑀0 та трьома векторами\",\n",
        "                  width=800,\n",
        "                  height=700,\n",
        "                  showlegend=True)\n",
        "\n",
        "fig.show()"
      ]
    },
    {
      "cell_type": "markdown",
      "metadata": {
        "id": "C-f7_gvM-eSm"
      },
      "source": [
        "Для обчислення об'єму паралелепіпеда, заданого векторами $\\overline{a}$, $\\overline{b}$ та\n",
        "$\\overline{𝑐}$, можна скористатися визначником матриці, складеної з координат цих векторів. Об'єм паралелепіпеда визначається як абсолютне значення змішаного добутку цих векторів:\n",
        "\\\n",
        "$$\n",
        "V = \\left|\\overline{a} \\cdot \\left(\\overline{b} \\times \\overline{c}\\right)\\right|\n",
        "$$\n",
        "\\\n",
        "Обчислимо змішаний добуток:\n",
        "\\\n",
        "$$\n",
        "V = \\left|\\left|\\begin{array}{cc} 1 & \\frac{1}{3}0 &  \\\\ 0 & 2 & \\frac{1}{4} \\\\ \\frac{1}{2} & \\frac{1}{2} & 1 \\\\  \\end{array}\\right|\\right|\n",
        "$$\n",
        "\\\n",
        "###Об'єм паралелепіпеда рахуємо як обчислення визначника матриці:\n",
        "\\\n",
        "$$\n",
        "V = \\left|1 \\cdot \\left(2 \\cdot 1- \\frac{1}{4} \\cdot \\frac{1}{2}\\right) - \\frac{1}{3} \\cdot \\left(0 \\cdot 1 - \\frac{1}{4} \\cdot \\frac{1}{2}\\right) + 0 \\cdot \\left(0 \\cdot \\frac{1}{2} - 2 \\cdot \\frac{1}{2}\\right)\\right|\n",
        "$$\n",
        "\\\n",
        "\\\n",
        "$$\n",
        "V = \\left|1 \\cdot \\left(2 - \\frac{1}{8}\\right) - \\frac{1}{3} \\cdot \\left(0 - \\frac{1}{8} \\right) + 0 \\right|\n",
        "$$\n",
        "\\\n",
        "\\\n",
        "$$\n",
        "V = \\left|1 \\cdot \\frac{15}{8} + \\frac{1}{3} \\cdot \\frac{1}{8} \\right|= \\left|\\frac{15}{8} + \\frac{1}{24} \\right|= \\left|\\frac{45}{24} + \\frac{1}{24} \\right|= \\left|\\frac{46}{24} \\right|\n",
        "$$\n",
        "\n",
        "###Об'єм паралелепіпеда:\n",
        "$$\n",
        "V = \\left|\\frac{23}{12} \\right|\n",
        "$$\n",
        "нижче приведено програмне обчислення об'єма паралелепіпеда"
      ]
    },
    {
      "cell_type": "markdown",
      "metadata": {
        "id": "GOWH6FJ4-psx"
      },
      "source": [
        "\n",
        "Щоб обчислити площу повної поверхні паралелепіпеда, потрібно знайти площі всіх його шести граней і скласти їх.\n",
        "Для паралелепіпеда, утвореного векторами $\\overline{a}$, $\\overline{b}$ та $\\overline{c}$, площі граней можна знайти за допомогою векторного добутку:\n",
        "\n",
        "1. Обчислюємо площу грані, утвореної векторами $\\overline{a}$ та $\\overline{b}$:\n",
        "$A_1=\\left|\\overline{a}\\times\\overline{b}\\right|$\n",
        "\n",
        "Обчислимо векторні добутки:\n",
        "\n",
        "$$\n",
        "\\overline{a}\\times\\overline{b}=\\left|\\begin{array}{cc} i & j & k \\\\ 1 & \\frac{1}{3} & 0 \\\\ 0 & 2 & \\frac{1}{4} \\\\  \\end{array}\\right| = i\\left(\\frac{1}{3} \\cdot \\frac{1}{4} - 0 \\cdot 2\\right) - j\\left(1 \\cdot \\frac{1}{4} - 0 \\cdot 0\\right) + k\\left(1 \\cdot 2 - 0 \\cdot \\frac{1}{3}\\right)\n",
        "$$\n",
        "\n",
        "$$\n",
        "\\overline{a}\\times\\overline{b}=\n",
        "\\left(\\frac{1}{12}, - \\frac{1}{4},2\\right)\n",
        "$$\n",
        "\n",
        "$$\n",
        "\\left|\\overline{a} \\times \\overline{b}\\right| = \\sqrt{\\left(\\frac{1}{12}\\right)^2 + \\left( - \\frac{1}{4}\\right)^2 + 2^2} = \\sqrt{\\frac{1}{144} + \\frac{1}{16} + 4} = \\sqrt{\\frac{1 + 9 + 576}{144}} = \\sqrt{\\frac{586}{144}} = \\frac{\\sqrt{586}}{12}\n",
        "$$\n",
        "\n",
        "2. Обчислюємо площу грані, утвореної векторами $\\overline{b}$ та $\\overline{c}$:\n",
        "$A_2=\\left|\\overline{b}\\times\\overline{c}\\right|$\n",
        "\n",
        "Обчислимо векторні добутки:\n",
        "\n",
        "$$\n",
        "\\overline{b}\\times\\overline{c}=\\left|\\begin{array}{cc} i & j & k \\\\ 0 & 2 & \\frac{1}{4}  \\\\ \\frac{1}{2} &  \\frac{1}{2} & 1\\\\  \\end{array}\\right| = i\\left(2 \\cdot 1-\\frac{1}{4} \\cdot \\frac{1}{2}\\right) - j\\left(0 \\cdot 1 - \\frac{1}{4} \\cdot \\frac{1}{2}\\right) + k\\left(0 \\cdot \\frac{1}{2} - 2 \\cdot \\frac{1}{2}\\right)\n",
        "$$\n",
        "\n",
        "$$\n",
        "\\overline{b}\\times\\overline{c}=\n",
        "\\left(2 - \\frac{1}{8}, - \\frac{1}{8},-1\\right)=\n",
        "\\left(\\frac{15}{8}, - \\frac{1}{8},-1\\right)\n",
        "$$\n",
        "\n",
        "$$\n",
        "\\left|\\overline{b} \\times \\overline{c}\\right| = \\sqrt{\\left(\\frac{15}{8}\\right)^2 + \\left( - \\frac{1}{8}\\right)^2 + (-1)^2} = \\sqrt{\\frac{225}{64} + \\frac{1}{64} + 1} = \\sqrt{\\frac{225 + 1 + 64}{64}} = \\sqrt{\\frac{290}{64}}\n",
        "$$\n",
        "\n",
        "3. Обчислюємо площу грані, утвореної векторами $\\overline{a}$ та $\\overline{c}$:\n",
        "$A_3=\\left|\\overline{a}\\times\\overline{c}\\right|$\n",
        "\n",
        "Обчислимо векторні добутки:\n",
        "\n",
        "$$\n",
        "\\overline{a}\\times\\overline{c}=\\left|\\begin{array}{cc} i & j & k \\\\ 1 & \\frac{1}{3} & 0  \\\\ \\frac{1}{2} &  \\frac{1}{3} & 1\\\\  \\end{array}\\right| = i\\left(\\frac{1}{3} \\cdot 1-0 \\cdot \\frac{1}{2}\\right) - j\\left(1 \\cdot 1 - 0 \\cdot \\frac{1}{2}\\right) + k\\left(1 \\cdot \\frac{1}{2} - \\frac{1}{3} \\cdot \\frac{1}{2}\\right)\n",
        "$$\n",
        "\n",
        "$$\n",
        "\\overline{b}\\times\\overline{c}=\n",
        "\\left(\\frac{1}{3}, - 1, \\frac{1}{2}-\\frac{1}{6}\\right)=\n",
        "\\left(\\frac{1}{3}, - 1,\\frac{1}{3}\\right)\n",
        "$$\n",
        "\n",
        "$$\n",
        "\\left|\\overline{a} \\times \\overline{c}\\right| = \\sqrt{\\left(\\frac{1}{3}\\right)^2 +  (-1)^2 + \\left(\\frac{1}{3}\\right)^2} = \\sqrt{\\frac{1}{9} + 1 + \\frac{1}{9}}= \\sqrt{\\frac{1 + 9 + 1}{9}} = \\sqrt{\\frac{11}{9}}= \\frac{\\sqrt{11}}{3}\n",
        "$$\n",
        "\n",
        "##Площа повної поверхні паралелепіпеда дорівнює:\n",
        "\n",
        "$$\n",
        "S = 2 \\cdot \\left(\\frac{\\sqrt{586}}{12} + \\frac{\\sqrt{290}}{8} + \\frac{\\sqrt{11}}{3}\\right)\n",
        "$$\n",
        "\n",
        "Нижче наведено програмний код для обчислення площі повної поверхні паралелепіпеда"
      ]
    },
    {
      "cell_type": "markdown",
      "metadata": {
        "id": "BcIe0-Nm-sii"
      },
      "source": [
        "Щоб знайти кути між ребрами паралелепіпеда, потрібно розглянути кути між векторами $\\overline{a},\\overline{b}$ та $\\overline{c}$. Використовуватимемо скалярний добуток векторів для обчислення кутів між ними.\n",
        "\n",
        "1. Кут між  $\\overline{a}$ та  $\\overline{b}$\n",
        "\n",
        "Обчислимо скалярний добуток:  \n",
        "$$\n",
        "\\overline{a} \\cdot \\overline{b} = 1 \\cdot 0 + \\frac{1}{3} \\cdot 2 + 0 \\cdot \\frac{1}{4} = \\frac{2}{3} $$\n",
        "Обчислимо довжини векторів:\n",
        "$$\n",
        "\\left|\\overline{a}\\right| = \\sqrt{1^2 + \\left(\\frac{1}{3}\\right)^2 + 0^2} = \\sqrt{1 + \\frac{1}{9}} = \\sqrt{\\frac{10}{9}} = \\frac{\\sqrt{10}}{3}$$\n",
        "$$\n",
        "\\left|\\overline{b}\\right| = \\sqrt{0^2 + 2^2 + \\left(\\frac{1}{4}\\right)^2} = \\sqrt{4 + \\frac{1}{16}} = \\sqrt{\\frac{65}{16}} = \\frac{\\sqrt{65}}{4}$$\n",
        "\n",
        "Обчислимо $cos\\left(\\theta \\right)$:\n",
        "\n",
        "$$\n",
        "cos\\left(\\theta_{ab}\\right) = \\frac{\\frac{2}{3}}{\\frac{\\sqrt{10}}{3} \\cdot \\frac{\\sqrt{65}}{4}} = \\frac{\\frac{2}{3}}{\\frac{\\sqrt{650}}{12}} = \\frac{2 \\cdot 12}{3\\sqrt{650}} = \\frac{8}{\\sqrt{650}}\n",
        "$$\n",
        "\n",
        "2. Кут між  $\\overline{a}$ та  $\\overline{c}$\n",
        "\n",
        "Обчислимо скалярний добуток:  \n",
        "$$\n",
        "\\overline{a} \\cdot \\overline{c} = 1 \\cdot \\frac{1}{2} + \\frac{1}{3} \\cdot \\frac{1}{2} + 0 \\cdot 1 = \\frac{2}{3} $$\n",
        "Обчислимо довжини векторів:\n",
        "$$\n",
        "\\left|\\overline{c}\\right| = \\sqrt{\\left(\\frac{1}{2}\\right)^2 + \\left(\\frac{1}{2}\\right)^2+ 1^2} = \\sqrt{\\frac{1}{4} + \\frac{1}{4} + 1} = \\sqrt{\\frac{3}{2}} = \\frac{\\sqrt{6}}{2}$$\n",
        "\n",
        "Обчислимо $cos\\left(\\theta \\right)$:\n",
        "\n",
        "$$\n",
        "cos\\left(\\theta_{ac}\\right) = \\frac{\\frac{2}{3}}{\\frac{\\sqrt{10}}{3} \\cdot \\frac{\\sqrt{6}}{2}} = \\frac{\\frac{2}{3}}{\\frac{\\sqrt{60}}{6}} = = \\frac{4}{\\sqrt{60}}\n",
        "$$\n",
        "\n",
        "3. Кут між  $\\overline{b}$ та  $\\overline{c}$\n",
        "\n",
        "Обчислимо скалярний добуток:  \n",
        "$$\n",
        "\\overline{b} \\cdot \\overline{c} = 0 \\cdot \\frac{1}{2} + 2 \\cdot \\frac{1}{2} + \\frac{1}{4} \\cdot 1 = 1 + \\frac{1}{4}= \\frac{5}{4} $$\n",
        "\n",
        "Обчислимо $cos\\left(\\theta \\right)$:\n",
        "\n",
        "$$\n",
        "cos\\left(\\theta_{bc}\\right) = \\frac{\\frac{5}{4}}{\\frac{\\sqrt{65}}{4} \\cdot \\frac{\\sqrt{6}}{2}} = \\frac{\\frac{5}{4}}{\\frac{\\sqrt{390}}{8}} = = \\frac{10}{\\sqrt{390}}\n",
        "$$\n",
        "нижче приведено програмне обчислення кутів.\n"
      ]
    },
    {
      "cell_type": "markdown",
      "metadata": {
        "id": "hX3v7hhn-0hu"
      },
      "source": [
        "Порахуємо координати інших чотирьох вершин паралелепіпеда.\n",
        "\n",
        "$$\n",
        "M_4 = M_1 + \\overline{b} = \\left(1,\\frac{1}{3},0\\right) + \\left(0,2,\\frac{1}{4}\\right) = \\left(1,\\frac{7}{3},\\frac{1}{4}\\right)\n",
        "$$\n",
        "\n",
        "$$\n",
        "M_5 = M_1 + \\overline{c} = \\left(1,\\frac{1}{3},0\\right) + \\left(\\frac{1}{2},\\frac{1}{2},1\\right) = \\left(\\frac{3}{2},\\frac{5}{6},1\\right)\n",
        "$$\n",
        "\n",
        "$$\n",
        "M_6 = M_2 + \\overline{c} = \\left(0,2,\\frac{1}{4}\\right) + \\left(\\frac{1}{2},\\frac{1}{2},1\\right) = \\left(\\frac{1}{2},\\frac{5}{2},\\frac{5}{4}\\right)\n",
        "$$\n",
        "\n",
        "$$\n",
        "M_7 = M_1 + \\overline{b}+ \\overline{c} = \\left(1,\\frac{1}{3},0\\right) + \\left(0,2,\\frac{1}{4}\\right) + \\left(\\frac{1}{2},\\frac{1}{2},1\\right) = \\left(\\frac{3}{2},\\frac{7}{6},\\frac{5}{4}\\right)\n",
        "$$"
      ]
    },
    {
      "cell_type": "code",
      "execution_count": 4,
      "metadata": {
        "colab": {
          "base_uri": "https://localhost:8080/",
          "height": 681
        },
        "id": "vnKg0Fqg-5lL",
        "outputId": "f97d277a-1215-4a69-846c-16dfae91de84"
      },
      "outputs": [
        {
          "name": "stdout",
          "output_type": "stream",
          "text": [
            "Об'єм паралелепіпеда: 1.9166666666666667\n",
            "Площа повної поверхні паралелепіпеда: 11.768276239998473\n",
            "Кут між векторами a і b в радіанах: 1.2516187129959075\n",
            "Кут між векторами a і b в градусах: 71.71246981426138\n",
            "Кут між векторами a і c в радіанах: 1.028157224545244\n",
            "Кут між векторами a і c в градусах: 58.90906964232697\n",
            "Кут між векторами b і c в радіанах: 1.0398267240528272\n",
            "Кут між векторами b і c в градусах: 59.57768271314148\n"
          ]
        },
        {
          "data": {
            "text/html": [
              "<html>\n",
              "<head><meta charset=\"utf-8\" /></head>\n",
              "<body>\n",
              "    <div>            <script src=\"https://cdnjs.cloudflare.com/ajax/libs/mathjax/2.7.5/MathJax.js?config=TeX-AMS-MML_SVG\"></script><script type=\"text/javascript\">if (window.MathJax && window.MathJax.Hub && window.MathJax.Hub.Config) {window.MathJax.Hub.Config({SVG: {font: \"STIX-Web\"}});}</script>                <script type=\"text/javascript\">window.PlotlyConfig = {MathJaxConfig: 'local'};</script>\n",
              "        <script charset=\"utf-8\" src=\"https://cdn.plot.ly/plotly-2.32.0.min.js\"></script>                <div id=\"d16ecb7b-e2d0-4507-9604-10559261efd8\" class=\"plotly-graph-div\" style=\"height:525px; width:100%;\"></div>            <script type=\"text/javascript\">                                    window.PLOTLYENV=window.PLOTLYENV || {};                                    if (document.getElementById(\"d16ecb7b-e2d0-4507-9604-10559261efd8\")) {                    Plotly.newPlot(                        \"d16ecb7b-e2d0-4507-9604-10559261efd8\",                        [{\"marker\":{\"color\":\"blue\",\"size\":6},\"mode\":\"markers\",\"name\":\"\\u0412\\u0435\\u0440\\u0448\\u0438\\u043d\\u0438 \\u043f\\u0430\\u0440\\u0430\\u043b\\u0435\\u043b\\u0435\\u043f\\u0456\\u043f\\u0435\\u0434\\u0430\",\"x\":[0.0,1.0,0.0,0.5,1.0,1.5,0.5,1.5],\"y\":[0.0,0.3333333333333333,2.0,0.5,2.3333333333333335,0.8333333333333333,2.5,2.8333333333333335],\"z\":[0.0,0.0,0.25,1.0,0.25,1.0,1.25,1.25],\"type\":\"scatter3d\"},{\"line\":{\"color\":\"black\",\"width\":3},\"mode\":\"lines\",\"x\":[0.0,1.0],\"y\":[0.0,0.3333333333333333],\"z\":[0.0,0.0],\"type\":\"scatter3d\"},{\"line\":{\"color\":\"black\",\"width\":3},\"mode\":\"lines\",\"x\":[0.0,0.0],\"y\":[0.0,2.0],\"z\":[0.0,0.25],\"type\":\"scatter3d\"},{\"line\":{\"color\":\"black\",\"width\":3},\"mode\":\"lines\",\"x\":[0.0,0.5],\"y\":[0.0,0.5],\"z\":[0.0,1.0],\"type\":\"scatter3d\"},{\"line\":{\"color\":\"black\",\"width\":3},\"mode\":\"lines\",\"x\":[1.0,1.0],\"y\":[0.3333333333333333,2.3333333333333335],\"z\":[0.0,0.25],\"type\":\"scatter3d\"},{\"line\":{\"color\":\"black\",\"width\":3},\"mode\":\"lines\",\"x\":[1.0,1.5],\"y\":[0.3333333333333333,0.8333333333333333],\"z\":[0.0,1.0],\"type\":\"scatter3d\"},{\"line\":{\"color\":\"black\",\"width\":3},\"mode\":\"lines\",\"x\":[0.0,1.0],\"y\":[2.0,2.3333333333333335],\"z\":[0.25,0.25],\"type\":\"scatter3d\"},{\"line\":{\"color\":\"black\",\"width\":3},\"mode\":\"lines\",\"x\":[0.0,0.5],\"y\":[2.0,2.5],\"z\":[0.25,1.25],\"type\":\"scatter3d\"},{\"line\":{\"color\":\"black\",\"width\":3},\"mode\":\"lines\",\"x\":[0.5,1.5],\"y\":[0.5,0.8333333333333333],\"z\":[1.0,1.0],\"type\":\"scatter3d\"},{\"line\":{\"color\":\"black\",\"width\":3},\"mode\":\"lines\",\"x\":[0.5,0.5],\"y\":[0.5,2.5],\"z\":[1.0,1.25],\"type\":\"scatter3d\"},{\"line\":{\"color\":\"black\",\"width\":3},\"mode\":\"lines\",\"x\":[1.0,1.5],\"y\":[2.3333333333333335,2.8333333333333335],\"z\":[0.25,1.25],\"type\":\"scatter3d\"},{\"line\":{\"color\":\"black\",\"width\":3},\"mode\":\"lines\",\"x\":[1.5,1.5],\"y\":[0.8333333333333333,2.8333333333333335],\"z\":[1.0,1.25],\"type\":\"scatter3d\"},{\"line\":{\"color\":\"black\",\"width\":3},\"mode\":\"lines\",\"x\":[0.5,1.5],\"y\":[2.5,2.8333333333333335],\"z\":[1.25,1.25],\"type\":\"scatter3d\"}],                        {\"template\":{\"data\":{\"histogram2dcontour\":[{\"type\":\"histogram2dcontour\",\"colorbar\":{\"outlinewidth\":0,\"ticks\":\"\"},\"colorscale\":[[0.0,\"#0d0887\"],[0.1111111111111111,\"#46039f\"],[0.2222222222222222,\"#7201a8\"],[0.3333333333333333,\"#9c179e\"],[0.4444444444444444,\"#bd3786\"],[0.5555555555555556,\"#d8576b\"],[0.6666666666666666,\"#ed7953\"],[0.7777777777777778,\"#fb9f3a\"],[0.8888888888888888,\"#fdca26\"],[1.0,\"#f0f921\"]]}],\"choropleth\":[{\"type\":\"choropleth\",\"colorbar\":{\"outlinewidth\":0,\"ticks\":\"\"}}],\"histogram2d\":[{\"type\":\"histogram2d\",\"colorbar\":{\"outlinewidth\":0,\"ticks\":\"\"},\"colorscale\":[[0.0,\"#0d0887\"],[0.1111111111111111,\"#46039f\"],[0.2222222222222222,\"#7201a8\"],[0.3333333333333333,\"#9c179e\"],[0.4444444444444444,\"#bd3786\"],[0.5555555555555556,\"#d8576b\"],[0.6666666666666666,\"#ed7953\"],[0.7777777777777778,\"#fb9f3a\"],[0.8888888888888888,\"#fdca26\"],[1.0,\"#f0f921\"]]}],\"heatmap\":[{\"type\":\"heatmap\",\"colorbar\":{\"outlinewidth\":0,\"ticks\":\"\"},\"colorscale\":[[0.0,\"#0d0887\"],[0.1111111111111111,\"#46039f\"],[0.2222222222222222,\"#7201a8\"],[0.3333333333333333,\"#9c179e\"],[0.4444444444444444,\"#bd3786\"],[0.5555555555555556,\"#d8576b\"],[0.6666666666666666,\"#ed7953\"],[0.7777777777777778,\"#fb9f3a\"],[0.8888888888888888,\"#fdca26\"],[1.0,\"#f0f921\"]]}],\"heatmapgl\":[{\"type\":\"heatmapgl\",\"colorbar\":{\"outlinewidth\":0,\"ticks\":\"\"},\"colorscale\":[[0.0,\"#0d0887\"],[0.1111111111111111,\"#46039f\"],[0.2222222222222222,\"#7201a8\"],[0.3333333333333333,\"#9c179e\"],[0.4444444444444444,\"#bd3786\"],[0.5555555555555556,\"#d8576b\"],[0.6666666666666666,\"#ed7953\"],[0.7777777777777778,\"#fb9f3a\"],[0.8888888888888888,\"#fdca26\"],[1.0,\"#f0f921\"]]}],\"contourcarpet\":[{\"type\":\"contourcarpet\",\"colorbar\":{\"outlinewidth\":0,\"ticks\":\"\"}}],\"contour\":[{\"type\":\"contour\",\"colorbar\":{\"outlinewidth\":0,\"ticks\":\"\"},\"colorscale\":[[0.0,\"#0d0887\"],[0.1111111111111111,\"#46039f\"],[0.2222222222222222,\"#7201a8\"],[0.3333333333333333,\"#9c179e\"],[0.4444444444444444,\"#bd3786\"],[0.5555555555555556,\"#d8576b\"],[0.6666666666666666,\"#ed7953\"],[0.7777777777777778,\"#fb9f3a\"],[0.8888888888888888,\"#fdca26\"],[1.0,\"#f0f921\"]]}],\"surface\":[{\"type\":\"surface\",\"colorbar\":{\"outlinewidth\":0,\"ticks\":\"\"},\"colorscale\":[[0.0,\"#0d0887\"],[0.1111111111111111,\"#46039f\"],[0.2222222222222222,\"#7201a8\"],[0.3333333333333333,\"#9c179e\"],[0.4444444444444444,\"#bd3786\"],[0.5555555555555556,\"#d8576b\"],[0.6666666666666666,\"#ed7953\"],[0.7777777777777778,\"#fb9f3a\"],[0.8888888888888888,\"#fdca26\"],[1.0,\"#f0f921\"]]}],\"mesh3d\":[{\"type\":\"mesh3d\",\"colorbar\":{\"outlinewidth\":0,\"ticks\":\"\"}}],\"scatter\":[{\"fillpattern\":{\"fillmode\":\"overlay\",\"size\":10,\"solidity\":0.2},\"type\":\"scatter\"}],\"parcoords\":[{\"type\":\"parcoords\",\"line\":{\"colorbar\":{\"outlinewidth\":0,\"ticks\":\"\"}}}],\"scatterpolargl\":[{\"type\":\"scatterpolargl\",\"marker\":{\"colorbar\":{\"outlinewidth\":0,\"ticks\":\"\"}}}],\"bar\":[{\"error_x\":{\"color\":\"#2a3f5f\"},\"error_y\":{\"color\":\"#2a3f5f\"},\"marker\":{\"line\":{\"color\":\"#E5ECF6\",\"width\":0.5},\"pattern\":{\"fillmode\":\"overlay\",\"size\":10,\"solidity\":0.2}},\"type\":\"bar\"}],\"scattergeo\":[{\"type\":\"scattergeo\",\"marker\":{\"colorbar\":{\"outlinewidth\":0,\"ticks\":\"\"}}}],\"scatterpolar\":[{\"type\":\"scatterpolar\",\"marker\":{\"colorbar\":{\"outlinewidth\":0,\"ticks\":\"\"}}}],\"histogram\":[{\"marker\":{\"pattern\":{\"fillmode\":\"overlay\",\"size\":10,\"solidity\":0.2}},\"type\":\"histogram\"}],\"scattergl\":[{\"type\":\"scattergl\",\"marker\":{\"colorbar\":{\"outlinewidth\":0,\"ticks\":\"\"}}}],\"scatter3d\":[{\"type\":\"scatter3d\",\"line\":{\"colorbar\":{\"outlinewidth\":0,\"ticks\":\"\"}},\"marker\":{\"colorbar\":{\"outlinewidth\":0,\"ticks\":\"\"}}}],\"scattermapbox\":[{\"type\":\"scattermapbox\",\"marker\":{\"colorbar\":{\"outlinewidth\":0,\"ticks\":\"\"}}}],\"scatterternary\":[{\"type\":\"scatterternary\",\"marker\":{\"colorbar\":{\"outlinewidth\":0,\"ticks\":\"\"}}}],\"scattercarpet\":[{\"type\":\"scattercarpet\",\"marker\":{\"colorbar\":{\"outlinewidth\":0,\"ticks\":\"\"}}}],\"carpet\":[{\"aaxis\":{\"endlinecolor\":\"#2a3f5f\",\"gridcolor\":\"white\",\"linecolor\":\"white\",\"minorgridcolor\":\"white\",\"startlinecolor\":\"#2a3f5f\"},\"baxis\":{\"endlinecolor\":\"#2a3f5f\",\"gridcolor\":\"white\",\"linecolor\":\"white\",\"minorgridcolor\":\"white\",\"startlinecolor\":\"#2a3f5f\"},\"type\":\"carpet\"}],\"table\":[{\"cells\":{\"fill\":{\"color\":\"#EBF0F8\"},\"line\":{\"color\":\"white\"}},\"header\":{\"fill\":{\"color\":\"#C8D4E3\"},\"line\":{\"color\":\"white\"}},\"type\":\"table\"}],\"barpolar\":[{\"marker\":{\"line\":{\"color\":\"#E5ECF6\",\"width\":0.5},\"pattern\":{\"fillmode\":\"overlay\",\"size\":10,\"solidity\":0.2}},\"type\":\"barpolar\"}],\"pie\":[{\"automargin\":true,\"type\":\"pie\"}]},\"layout\":{\"autotypenumbers\":\"strict\",\"colorway\":[\"#636efa\",\"#EF553B\",\"#00cc96\",\"#ab63fa\",\"#FFA15A\",\"#19d3f3\",\"#FF6692\",\"#B6E880\",\"#FF97FF\",\"#FECB52\"],\"font\":{\"color\":\"#2a3f5f\"},\"hovermode\":\"closest\",\"hoverlabel\":{\"align\":\"left\"},\"paper_bgcolor\":\"white\",\"plot_bgcolor\":\"#E5ECF6\",\"polar\":{\"bgcolor\":\"#E5ECF6\",\"angularaxis\":{\"gridcolor\":\"white\",\"linecolor\":\"white\",\"ticks\":\"\"},\"radialaxis\":{\"gridcolor\":\"white\",\"linecolor\":\"white\",\"ticks\":\"\"}},\"ternary\":{\"bgcolor\":\"#E5ECF6\",\"aaxis\":{\"gridcolor\":\"white\",\"linecolor\":\"white\",\"ticks\":\"\"},\"baxis\":{\"gridcolor\":\"white\",\"linecolor\":\"white\",\"ticks\":\"\"},\"caxis\":{\"gridcolor\":\"white\",\"linecolor\":\"white\",\"ticks\":\"\"}},\"coloraxis\":{\"colorbar\":{\"outlinewidth\":0,\"ticks\":\"\"}},\"colorscale\":{\"sequential\":[[0.0,\"#0d0887\"],[0.1111111111111111,\"#46039f\"],[0.2222222222222222,\"#7201a8\"],[0.3333333333333333,\"#9c179e\"],[0.4444444444444444,\"#bd3786\"],[0.5555555555555556,\"#d8576b\"],[0.6666666666666666,\"#ed7953\"],[0.7777777777777778,\"#fb9f3a\"],[0.8888888888888888,\"#fdca26\"],[1.0,\"#f0f921\"]],\"sequentialminus\":[[0.0,\"#0d0887\"],[0.1111111111111111,\"#46039f\"],[0.2222222222222222,\"#7201a8\"],[0.3333333333333333,\"#9c179e\"],[0.4444444444444444,\"#bd3786\"],[0.5555555555555556,\"#d8576b\"],[0.6666666666666666,\"#ed7953\"],[0.7777777777777778,\"#fb9f3a\"],[0.8888888888888888,\"#fdca26\"],[1.0,\"#f0f921\"]],\"diverging\":[[0,\"#8e0152\"],[0.1,\"#c51b7d\"],[0.2,\"#de77ae\"],[0.3,\"#f1b6da\"],[0.4,\"#fde0ef\"],[0.5,\"#f7f7f7\"],[0.6,\"#e6f5d0\"],[0.7,\"#b8e186\"],[0.8,\"#7fbc41\"],[0.9,\"#4d9221\"],[1,\"#276419\"]]},\"xaxis\":{\"gridcolor\":\"white\",\"linecolor\":\"white\",\"ticks\":\"\",\"title\":{\"standoff\":15},\"zerolinecolor\":\"white\",\"automargin\":true,\"zerolinewidth\":2},\"yaxis\":{\"gridcolor\":\"white\",\"linecolor\":\"white\",\"ticks\":\"\",\"title\":{\"standoff\":15},\"zerolinecolor\":\"white\",\"automargin\":true,\"zerolinewidth\":2},\"scene\":{\"xaxis\":{\"backgroundcolor\":\"#E5ECF6\",\"gridcolor\":\"white\",\"linecolor\":\"white\",\"showbackground\":true,\"ticks\":\"\",\"zerolinecolor\":\"white\",\"gridwidth\":2},\"yaxis\":{\"backgroundcolor\":\"#E5ECF6\",\"gridcolor\":\"white\",\"linecolor\":\"white\",\"showbackground\":true,\"ticks\":\"\",\"zerolinecolor\":\"white\",\"gridwidth\":2},\"zaxis\":{\"backgroundcolor\":\"#E5ECF6\",\"gridcolor\":\"white\",\"linecolor\":\"white\",\"showbackground\":true,\"ticks\":\"\",\"zerolinecolor\":\"white\",\"gridwidth\":2}},\"shapedefaults\":{\"line\":{\"color\":\"#2a3f5f\"}},\"annotationdefaults\":{\"arrowcolor\":\"#2a3f5f\",\"arrowhead\":0,\"arrowwidth\":1},\"geo\":{\"bgcolor\":\"white\",\"landcolor\":\"#E5ECF6\",\"subunitcolor\":\"white\",\"showland\":true,\"showlakes\":true,\"lakecolor\":\"white\"},\"title\":{\"x\":0.05},\"mapbox\":{\"style\":\"light\"}}},\"scene\":{\"xaxis\":{\"title\":{\"text\":\"\\u0432\\u0456\\u0441\\u044c X\"}},\"yaxis\":{\"title\":{\"text\":\"\\u0432\\u0456\\u0441\\u044c Y\"}},\"zaxis\":{\"title\":{\"text\":\"\\u0432\\u0456\\u0441\\u044c Z\"}}},\"title\":{\"text\":\"\\u041f\\u0430\\u0440\\u0430\\u043b\\u0435\\u043b\\u0435\\u043f\\u0456\\u043f\\u0435\\u0434\"}},                        {\"responsive\": true}                    ).then(function(){\n",
              "                            \n",
              "var gd = document.getElementById('d16ecb7b-e2d0-4507-9604-10559261efd8');\n",
              "var x = new MutationObserver(function (mutations, observer) {{\n",
              "        var display = window.getComputedStyle(gd).display;\n",
              "        if (!display || display === 'none') {{\n",
              "            console.log([gd, 'removed!']);\n",
              "            Plotly.purge(gd);\n",
              "            observer.disconnect();\n",
              "        }}\n",
              "}});\n",
              "\n",
              "// Listen for the removal of the full notebook cells\n",
              "var notebookContainer = gd.closest('#notebook-container');\n",
              "if (notebookContainer) {{\n",
              "    x.observe(notebookContainer, {childList: true});\n",
              "}}\n",
              "\n",
              "// Listen for the clearing of the current output cell\n",
              "var outputEl = gd.closest('.output');\n",
              "if (outputEl) {{\n",
              "    x.observe(outputEl, {childList: true});\n",
              "}}\n",
              "\n",
              "                        })                };                            </script>        </div>\n",
              "</body>\n",
              "</html>"
            ]
          },
          "metadata": {},
          "output_type": "display_data"
        }
      ],
      "source": [
        "# програмне обчислення об'єму, площі повної поверхні паралелепіпеда та кутів між ребрами паралелепіпеда\n",
        "import numpy as np\n",
        "import plotly.graph_objs as go\n",
        "# обчислення об'єму паралелепіпеда\n",
        "# Вектори a, b, c\n",
        "a = np.array([1, 1/3, 0])\n",
        "b = np.array([0, 2, 1/4])\n",
        "c = np.array([1/2, 1/2, 1])\n",
        "\n",
        "# Обчислення векторного добутку b і c\n",
        "cross_product = np.cross(b, c)\n",
        "\n",
        "# Обчислення скалярного добутку a і векторного добутку b і c\n",
        "scalar_triple_product = np.dot(a, cross_product)\n",
        "\n",
        "# Обчислення модулю скалярного добутку\n",
        "volume = abs(scalar_triple_product)\n",
        "\n",
        "print(\"Об'єм паралелепіпеда:\", volume)\n",
        "\n",
        "# Обчислення площі повної поверхні паралелепіпеда\n",
        "surface_area = 2 * (np.linalg.norm(a)*np.linalg.norm(b) + np.linalg.norm(b)*np.linalg.norm(c) + np.linalg.norm(c)*np.linalg.norm(a))\n",
        "\n",
        "print(\"Площа повної поверхні паралелепіпеда:\", surface_area)\n",
        "\n",
        "# Функція для обчислення кута між двома векторами\n",
        "def angle_between_vectors(u, v):\n",
        "    dot_product = np.dot(u, v)\n",
        "    norm_u = np.linalg.norm(u)\n",
        "    norm_v = np.linalg.norm(v)\n",
        "    cos_theta = dot_product / (norm_u * norm_v)\n",
        "    theta_radians = np.arccos(cos_theta)\n",
        "    theta_degrees = np.degrees(theta_radians)\n",
        "    return theta_radians, theta_degrees\n",
        "\n",
        "# Кути між векторами\n",
        "theta_ab_rad, theta_ab_deg = angle_between_vectors(a, b)\n",
        "theta_ac_rad, theta_ac_deg = angle_between_vectors(a, c)\n",
        "theta_bc_rad, theta_bc_deg = angle_between_vectors(b, c)\n",
        "\n",
        "print(\"Кут між векторами a і b в радіанах:\", theta_ab_rad)\n",
        "print(\"Кут між векторами a і b в градусах:\", theta_ab_deg)\n",
        "print(\"Кут між векторами a і c в радіанах:\", theta_ac_rad)\n",
        "print(\"Кут між векторами a і c в градусах:\", theta_ac_deg)\n",
        "print(\"Кут між векторами b і c в радіанах:\", theta_bc_rad)\n",
        "print(\"Кут між векторами b і c в градусах:\", theta_bc_deg)\n",
        "\n",
        "# Вершини паралелепіпеда\n",
        "vertices = np.array([[0, 0, 0], a, b, c, a + b, a + c, b + c, a + b + c])\n",
        "\n",
        "# Створення графіку\n",
        "fig = go.Figure()\n",
        "\n",
        "# Додавання точок\n",
        "fig.add_trace(go.Scatter3d(\n",
        "    x=vertices[:,0],\n",
        "    y=vertices[:,1],\n",
        "    z=vertices[:,2],\n",
        "    mode='markers',\n",
        "    name='Вершини паралелепіпеда',\n",
        "    marker=dict(size=6, color='blue')\n",
        "))\n",
        "\n",
        "# Додавання ліній, що утворюють грані паралелепіпеда\n",
        "lines = [[0, 1], [0, 2], [0, 3], [1, 4], [1, 5], [2, 4], [2, 6], [3, 5], [3, 6], [4, 7], [5, 7], [6, 7]]\n",
        "for line in lines:\n",
        "    fig.add_trace(go.Scatter3d(\n",
        "        x=[vertices[line[0], 0], vertices[line[1], 0]],\n",
        "        y=[vertices[line[0], 1], vertices[line[1], 1]],\n",
        "        z=[vertices[line[0], 2], vertices[line[1], 2]],\n",
        "        mode='lines',\n",
        "        line=dict(color='black', width=3)\n",
        "    ))\n",
        "\n",
        "# Налаштування осей\n",
        "fig.update_layout(scene=dict(\n",
        "                    xaxis=dict(title='вісь X'),\n",
        "                    yaxis=dict(title='вісь Y'),\n",
        "                    zaxis=dict(title='вісь Z')),\n",
        "                  title='Паралелепіпед')\n",
        "\n",
        "# Відображення графіку\n",
        "fig.show()\n",
        "\n"
      ]
    },
    {
      "cell_type": "code",
      "execution_count": 1,
      "metadata": {
        "colab": {
          "base_uri": "https://localhost:8080/"
        },
        "id": "cDJqqLse_etx",
        "outputId": "928c6e18-39b9-4c5c-b35c-e81309e3c9fc"
      },
      "outputs": [
        {
          "name": "stdout",
          "output_type": "stream",
          "text": [
            "Requirement already satisfied: plotly in /usr/local/lib/python3.10/dist-packages (5.22.0)\n",
            "Requirement already satisfied: tenacity>=6.2.0 in /usr/local/lib/python3.10/dist-packages (from plotly) (8.3.0)\n",
            "Requirement already satisfied: packaging in /usr/local/lib/python3.10/dist-packages (from plotly) (24.0)\n"
          ]
        }
      ],
      "source": [
        "pip install plotly"
      ]
    }
  ],
  "metadata": {
    "colab": {
      "provenance": []
    },
    "kernelspec": {
      "display_name": "Python 3",
      "name": "python3"
    },
    "language_info": {
      "name": "python"
    }
  },
  "nbformat": 4,
  "nbformat_minor": 0
}
