{
  "nbformat": 4,
  "nbformat_minor": 0,
  "metadata": {
    "colab": {
      "provenance": []
    },
    "kernelspec": {
      "name": "python3",
      "display_name": "Python 3"
    },
    "language_info": {
      "name": "python"
    }
  },
  "cells": [
    {
      "cell_type": "markdown",
      "source": [
        "**Завдання 1**\n",
        "\n",
        "Виконай диференціювання функції та знайди значення похідних у точках\n",
        "𝑥 = 1 і 𝑥 = −1/2.\n",
        "\n",
        "Розв’яжи програмно та аналітично.\n",
        "\n",
        "$\\frac{\\text{x3}}{\\text{3}} + \\frac{x2}{2}- 2x$\n",
        "\n",
        "$\\sqrt{{\\mathrm{x}}^2 + 1}$\n",
        "\n",
        "$\\frac{1}{\\sqrt{{\\mathrm{x}}^2 + 1}}$"
      ],
      "metadata": {
        "id": "0mGgIuUUVrzT"
      }
    },
    {
      "cell_type": "markdown",
      "source": [
        "**Аналітичний розв'язок**\n",
        "\n",
        "\\\\\n",
        "\n",
        "**Функція 1:** $\\frac{\\text{x3}}{\\text{3}} + \\frac{x2}{2}- 2x$\n",
        "\n",
        "\\\\\n",
        "\n",
        "1) Знайдемо похідну:\n",
        "\n",
        "\\\\\n",
        "\n",
        "${\\mathrm{f}}({\\mathrm{x}}) = \\frac{\\text{x3}}{\\text{3}} + \\frac{x2}{2}- 2x$\n",
        "\n",
        "${\\mathrm{f}}({\\mathrm{x}}) = \\frac{{\\mathrm{d}}}{{\\mathrm{dx}}}\\left(\\frac{{\\mathrm{x}}3}{3}\\right) + \\frac{{\\mathrm{d}}}{\\mathrm{dx}}\\left(\\frac{{\\mathrm{x}}3}{2}\\right) - \\frac{{\\mathrm{d}}}{\\mathrm{dx}}\\left(2x\\right)$\n",
        "\n",
        "${\\mathrm{f}}({\\mathrm{x}}) = {\\mathrm{x}}^2 + {\\mathrm{x}} - 2$\n",
        "\n",
        "\\\\\n",
        "\n",
        "2) Значення похідної у точках  𝑥 = 1 і 𝑥 = −1/2:\n",
        "\n",
        "\\\\\n",
        "\n",
        "${\\mathrm{f}}(1) = 1^2 + 1- 2 = 0$\n",
        "\n",
        "${\\mathrm{f}}( - \\frac{1}{2}) = (- \\frac{1}{2}{\\mathrm{​}})^2 + (- \\frac{1}{2}{\\mathrm{​}})- 2 = \\frac{1}{4}{\\mathrm{​}}- \\frac{1}{2}{\\mathrm{​}}- 2 = \\frac{1}{4}- \\frac{1}{2}- 2 = \\frac{1}{4}{\\mathrm{​}}- \\frac{2}{4}{\\mathrm{​}}- \\frac{8}{4}{\\mathrm{​}} = - \\frac{9}{4}{\\mathrm{​}} = - 2.25$\n",
        "\n",
        "\\\\\n",
        "\n",
        "**Функція 2:** $\\sqrt{{\\mathrm{x}}^2 + 1}$\n",
        "\n",
        "\\\\\n",
        "\n",
        "1) Знайдемо похідну:\n",
        "\n",
        "\\\\\n",
        "\n",
        "${\\mathrm{g}}({\\mathrm{x}}) = \\sqrt{{\\mathrm{x}}^2 + 1{\\mathrm{​}}}$\n",
        "\n",
        "${\\mathrm{g}}({\\mathrm{x}}) = ({\\mathrm{x}}^2 + 1)^{1/ 2}$\n",
        "\n",
        "${\\mathrm{g}}({\\mathrm{x}}) = \\frac{1}{2}{\\mathrm{​}}({\\mathrm{x}}^2 + 1)^{- 1/ 2} \\cdot 2{\\mathrm{x}}$\n",
        "\n",
        "${\\mathrm{g}}({\\mathrm{x}}) = \\frac{{\\mathrm{x}}}{\\sqrt{{\\mathrm{x}}^2} + 1}$\n",
        "\n",
        "\\\\\n",
        "\n",
        "2) Значення похідної у точках 𝑥 = 1 і 𝑥 = −1/2.\n",
        "\n",
        "\\\\\n",
        "\n",
        "${\\mathrm{g}}(1) = \\frac{1}{\\sqrt{1^{2 + 1}}}{\\mathrm{​}} = \\frac{1}{\\sqrt{2}}{\\mathrm{​}} = \\frac{1}{\\sqrt{2}}$\n",
        "\n",
        "$g(- \\frac{1}{2}​) = \\frac{ - \\frac{1}{2}}{\\sqrt{( - \\frac{1}{2})}^2 + 1}​​ = \\frac{ - \\frac{1}{2}}{\\sqrt{\\frac{1}{4} + 1}}​​​​ = \\frac{ - \\frac{1}{2}}{\\sqrt{\\frac{5}{4}}}​​​​​​ = \\frac{ - \\frac{1}{2}}{\\frac{\\sqrt{5}}{2}} = \\frac{ - 1}{\\sqrt{5}} = - \\frac{1}{\\sqrt{5}}$\n",
        "\n",
        "\\\\\n",
        "\n",
        "**Функція 3:** $\\frac{1}{\\sqrt{{\\mathrm{x}}^2 + 1}}$\n",
        "\n",
        "\\\\\n",
        "\n",
        "1) Знайдемо похідну:\n",
        "\n",
        "\\\\\n",
        "\n",
        "${\\mathrm{h}}({\\mathrm{x}}) = \\frac{1}{\\sqrt{{\\mathrm{x}}^2} + 1}$\n",
        "\n",
        "${\\mathrm{h}}({\\mathrm{x}}) = ({\\mathrm{x}}^2 + 1)^{- 1/ 2}$\n",
        "\n",
        "${\\mathrm{h}}({\\mathrm{x}}) = - \\frac{1}{2}({\\mathrm{x}}^2 + 1)^{- 3/ 2} \\cdotp 2{\\mathrm{x}}$\n",
        "\n",
        "${\\mathrm{h}}({\\mathrm{x}}) =  - \\frac{{\\mathrm{x}}}{({\\mathrm{x}}^2 + 1)^{3/ 2}}$\n",
        "\n",
        "\\\\\n",
        "\n",
        "2) Значення похідної у точках 𝑥 = 1 і 𝑥 = −1/2.\n",
        "\n",
        "\\\\\n",
        "\n",
        "${\\mathrm{h}}(1) =  - \\frac{1}{(1^2 + 1)^{3/ 2}} =  - \\frac{1}{2^{3/ 2}} =  - \\frac{1}{2\\sqrt{2}} =  - \\frac{\\sqrt{2}}{4}$\n",
        "\n",
        "${\\mathrm{h}}( - \\frac{1}{2}) =  - \\frac{ - \\frac{1}{2}}{(( - \\frac{1}{2})^2 + 1)^{3/ 2}} = \\frac{\\frac{1}{2}}{(\\frac{1}{4} + 1)^{3/ 2}} = \\frac{\\frac{1}{2}}{(\\frac{5}{4})^{3/ 2}} = \\frac{\\frac{1}{2}}{\\frac{5^{3/ 2}}{4^{3/ 2}}} = \\frac{2}{5\\sqrt{5}} =  - \\frac{2\\sqrt{5}}{25}$"
      ],
      "metadata": {
        "id": "iCZnDCdAteny"
      }
    },
    {
      "cell_type": "markdown",
      "source": [
        "**Програмний розв'язок**"
      ],
      "metadata": {
        "id": "5pMJoxiQavOV"
      }
    },
    {
      "cell_type": "code",
      "source": [
        "import sympy as sp\n",
        "\n",
        "# Задаємо змінну\n",
        "x = sp.symbols('x')\n",
        "\n",
        "# Функція 1: f(x) = x^3/3 + x^2/2 - 2x\n",
        "f = x**3 / 3 + x**2 / 2 - 2*x\n",
        "f_prime = sp.diff(f, x)\n",
        "\n",
        "# Значення похідної у точках x = 1 і x = -1/2\n",
        "f_prime_at_1 = f_prime.subs(x, 1)\n",
        "f_prime_at_neg_half = f_prime.subs(x, -1/2)\n",
        "\n",
        "# Функція 2: g(x) = sqrt(x^2 + 1)\n",
        "g = sp.sqrt(x**2 + 1)\n",
        "g_prime = sp.diff(g, x)\n",
        "\n",
        "# Значення похідної у точках x = 1 і x = -1/2\n",
        "g_prime_at_1 = g_prime.subs(x, 1)\n",
        "g_prime_at_neg_half = g_prime.subs(x, -1/2)\n",
        "\n",
        "# Функція 3: h(x) = 1 / sqrt(x^2 + 1)\n",
        "h = 1 / sp.sqrt(x**2 + 1)\n",
        "h_prime = sp.diff(h, x)\n",
        "\n",
        "# Значення похідної у точках x = 1 і x = -1/2\n",
        "h_prime_at_1 = h_prime.subs(x, 1)\n",
        "h_prime_at_neg_half = h_prime.subs(x, -1/2)\n",
        "\n",
        "# Виведення результатів\n",
        "print(\"Функція 1:\")\n",
        "print(f\"{f_prime_at_neg_half}\")\n",
        "print()\n",
        "print(\"Функція 2:\")\n",
        "print(f\"{g_prime_at_neg_half}\")\n",
        "print()\n",
        "print(\"Функція 3:\")\n",
        "print(f\"{h_prime_at_neg_half}\")\n",
        "\n"
      ],
      "metadata": {
        "colab": {
          "base_uri": "https://localhost:8080/"
        },
        "id": "wWAspClDa4nJ",
        "outputId": "024378aa-afae-4ca4-8e14-bba5037b09da"
      },
      "execution_count": 3,
      "outputs": [
        {
          "output_type": "stream",
          "name": "stdout",
          "text": [
            "Функція 1:\n",
            "-2.25000000000000\n",
            "\n",
            "Функція 2:\n",
            "-0.447213595499958\n",
            "\n",
            "Функція 3:\n",
            "0.357770876399966\n"
          ]
        }
      ]
    },
    {
      "cell_type": "markdown",
      "source": [
        "**Результати програмного розв'язку**\n",
        "\n",
        "\\\\\n",
        "\n",
        "Для функції 1: $\\frac{\\text{x3}}{\\text{3}} + \\frac{x2}{2}- 2x$\n",
        "\n",
        "${\\mathrm{f}}(1) = 0$\n",
        "\n",
        "${\\mathrm{f}}( - \\frac{1}{2}) = - 2.25$\n",
        "\n",
        "\\\\\n",
        "\n",
        "Для функції 2: $\\sqrt{{\\mathrm{x}}^2 + 1}$\n",
        "\n",
        "${\\mathrm{g}}(1) = \\frac{\\sqrt{2}}{2}$\n",
        "\n",
        "${\\mathrm{g}}(1) = ( - \\frac{1}{2}) = - 0.447213595499958 \\approx  - \\frac{1}{\\sqrt{5}}$\n",
        "\n",
        "\\\\\n",
        "\n",
        "Для функції 3: $\\frac{1}{\\sqrt{{\\mathrm{x}}^2 + 1}}$\n",
        "\n",
        "${\\mathrm{h}}(1) =  - \\frac{\\sqrt{2}}{4}$\n",
        "\n",
        "${\\mathrm{h}}( - \\frac{1}{2}) = 0.357770876399966 \\approx \\frac{2\\sqrt{5}}{25}$"
      ],
      "metadata": {
        "id": "SAUgM4Y_dDvl"
      }
    },
    {
      "cell_type": "markdown",
      "source": [
        "**Завдання 2**\n",
        "\n",
        "Аналітично виконай диференціювання функції та знайди точку максимуму.\n",
        "\n",
        "Програмно візуалізуй функцію, її похідну та точку максимуму.\n",
        "\n",
        "${\\mathrm{y}} = - 3{\\mathrm{x}}^2 + 30{\\mathrm{x}}$"
      ],
      "metadata": {
        "id": "Q47V4gUEhViG"
      }
    },
    {
      "cell_type": "markdown",
      "source": [
        "Аналітичне диференціювання та пошук точки максимуму\n",
        "\n",
        "\\\\\n",
        "\n",
        "Функція: ${\\mathrm{y}} = - 3{\\mathrm{x}}^2 + 30{\\mathrm{x}}$\n",
        "\n",
        "\\\\\n",
        "\n",
        "1) Знайдемо похідну функції:\n",
        "\n",
        "${\\mathrm{y}} = - 3{\\mathrm{x}}^2 + 30{\\mathrm{x}}$\n",
        "\n",
        "${\\mathrm{y}} = \\frac{{\\mathrm{d}}}{{\\mathrm{dx}}}(- 3{\\mathrm{x}}^2 + 30{\\mathrm{x}})$\n",
        "\n",
        "${\\mathrm{y}} = - 6{\\mathrm{x}} + 30$\n",
        "\n",
        "\\\\\n",
        "\n",
        "2) Знайдемо критичні точки, де похідна дорівнює нулю:\n",
        "\n",
        "$- 6{\\mathrm{x}} + 30 = 0$\n",
        "\n",
        "$- 6{\\mathrm{x}} =  - 30$\n",
        "\n",
        "$x = 5$\n",
        "\n",
        "\\\\\n",
        "\n",
        "3) Перевіримо знак другої похідної у цій точці, щоб визначити, чи є це максимумом:\n",
        "\n",
        "${\\mathrm{y}} = \\frac{{\\mathrm{d}}}{{\\mathrm{dx}}}( - 6{\\mathrm{x}} + 30)$\n",
        "\n",
        "${\\mathrm{y}} =  - 6$\n",
        "\n",
        "Оскільки друга похідна 𝑦 = −6 є негативною, то x = 5 дійсно є точкою максимуму.\n",
        "\n",
        "4) Значення функції у точці максимуму:\n",
        "\n",
        "${\\mathrm{y}}(5) =  - 3(5)^2 + 30(5)$\n",
        "\n",
        "${\\mathrm{y}}(5) =  - 75 + 150$\n",
        "\n",
        "${\\mathrm{y}}(5) = 75$\n",
        "\n",
        "Таким чином, точка максимуму функції ${\\mathrm{y}} = - 3{\\mathrm{x}}^2 + 30{\\mathrm{x}}$ знаходиться в точці x = 5 і значення функції в цій точці дорівнює 75.\n"
      ],
      "metadata": {
        "id": "M92B6q3gh9M0"
      }
    },
    {
      "cell_type": "markdown",
      "source": [
        "**Програмний розв'язок та візуалізація**\n",
        "\n",
        "Тепер виконаємо програмну частину і візуалізуємо функцію, її похідну та точку максимуму."
      ],
      "metadata": {
        "id": "qNj8Nzbonf6b"
      }
    },
    {
      "cell_type": "code",
      "source": [
        "import matplotlib.pyplot as plt\n",
        "import numpy as np\n",
        "\n",
        "# Функція та її похідна\n",
        "def y(x):\n",
        "    return -3*x**2 + 30*x\n",
        "\n",
        "def y_prime(x):\n",
        "    return -6*x + 30\n",
        "\n",
        "# Точка максимуму\n",
        "x_max = 5\n",
        "y_max = y(x_max)\n",
        "\n",
        "# Створення даних для графіку\n",
        "x = np.linspace(0, 10, 400)\n",
        "y_values = y(x)\n",
        "y_prime_values = y_prime(x)\n",
        "\n",
        "# Візуалізація\n",
        "plt.figure(figsize=(10, 6))\n",
        "plt.plot(x, y_values, label=\"y(x) = -3x^2 + 30x\")\n",
        "plt.plot(x, y_prime_values, label=\"y'(x) = -6x + 30\", linestyle='--')\n",
        "plt.scatter(x_max, y_max, color='red', zorder=5)\n",
        "plt.text(x_max, y_max, f'Maximum (5, 75)', fontsize=12, verticalalignment='bottom')\n",
        "\n",
        "# Декорації графіку\n",
        "plt.title(\"Функція та її похідна\")\n",
        "plt.xlabel(\"x\")\n",
        "plt.ylabel(\"y\")\n",
        "plt.legend()\n",
        "plt.grid(True)\n",
        "plt.show()\n"
      ],
      "metadata": {
        "colab": {
          "base_uri": "https://localhost:8080/",
          "height": 564
        },
        "id": "qWKlbTJ7nl3o",
        "outputId": "696121ea-6307-4890-ca97-3078f31c19c5"
      },
      "execution_count": 4,
      "outputs": [
        {
          "output_type": "display_data",
          "data": {
            "text/plain": [
              "<Figure size 1000x600 with 1 Axes>"
            ],
            "image/png": "[encoded data removed]"
          },
          "metadata": {}
        }
      ]
    },
    {
      "cell_type": "markdown",
      "source": [
        "Цей код побудує графік функції ${\\mathrm{y}} = - 3{\\mathrm{x}}^2 + 30{\\mathrm{x}}$, її похідної ${\\mathrm{y}} = - 6{\\mathrm{x}} + 30$ та позначить точку максимуму (5, 75) на графіку."
      ],
      "metadata": {
        "id": "1C55wH-Qn4Nf"
      }
    }
  ]
}